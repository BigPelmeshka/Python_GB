{
 "metadata": {
  "language_info": {
   "codemirror_mode": {
    "name": "ipython",
    "version": 3
   },
   "file_extension": ".py",
   "mimetype": "text/x-python",
   "name": "python",
   "nbconvert_exporter": "python",
   "pygments_lexer": "ipython3",
   "version": "3.8.5-final"
  },
  "orig_nbformat": 2,
  "kernelspec": {
   "name": "python3",
   "display_name": "Python 3.8.5 32-bit",
   "metadata": {
    "interpreter": {
     "hash": "11d0987cba3575fa86c43e5c0910b5a3a7d11bca43b022f3e641546965e6b895"
    }
   }
  }
 },
 "nbformat": 4,
 "nbformat_minor": 2,
 "cells": [
  {
   "source": [
    "## Создать список и заполнить его элементами различных типов данных. Реализовать скрипт проверки типа данных каждого элемента. Использовать функцию type() для проверки типа. Элементы списка можно не запрашивать у пользователя, а указать явно, в программе."
   ],
   "cell_type": "markdown",
   "metadata": {}
  },
  {
   "cell_type": "code",
   "execution_count": 5,
   "metadata": {},
   "outputs": [
    {
     "output_type": "stream",
     "name": "stdout",
     "text": [
      "№ 1  тип: <class 'int'>\n№ 2  тип: <class 'float'>\n№ 3  тип: <class 'str'>\n№ 4  тип: <class 'NoneType'>\n№ 5  тип: <class 'bool'>\n"
     ]
    }
   ],
   "source": [
    "list1 = [1,2.0,'3',None,True]\n",
    "for i in range(len(list1)):\n",
    "    print('№',i+1,' тип:', type(list1[i]))"
   ]
  },
  {
   "source": [
    "## Для списка реализовать обмен значений соседних элементов, т.е. Значениями обмениваются элементы с индексами 0 и 1, 2 и 3 и т.д. При нечетном количестве элементов последний сохранить на своем месте. Для заполнения списка элементов необходимо использовать функцию input()."
   ],
   "cell_type": "markdown",
   "metadata": {}
  },
  {
   "cell_type": "code",
   "execution_count": 12,
   "metadata": {},
   "outputs": [
    {
     "output_type": "stream",
     "name": "stdout",
     "text": [
      "Исходный список:  [1, 2, 3, 4, 5]\nИ3тоговый список:  [2, 1, 4, 3, 5]\n"
     ]
    }
   ],
   "source": [
    "length = int(input('введите количество значений: '))\n",
    "list2 = []\n",
    "for _ in range(length):\n",
    "    l = int(input())\n",
    "    list2.append(l)\n",
    "\n",
    "print('Исходный список: ',list2)\n",
    "\n",
    "j = 0\n",
    "for i in range(int(len(list2)/2)):\n",
    "  list2[j], list2[j+1] = list2[j+1], list2[j]\n",
    "  j += 2\n",
    " \n",
    "print('И3тоговый список: ',list2)"
   ]
  },
  {
   "source": [
    "## Пользователь вводит месяц в виде целого числа от 1 до 12. Сообщить к какому времени года относится месяц (зима, весна, лето, осень). Напишите решения через list и через dict."
   ],
   "cell_type": "markdown",
   "metadata": {}
  },
  {
   "cell_type": "code",
   "execution_count": 15,
   "metadata": {},
   "outputs": [
    {
     "output_type": "stream",
     "name": "stdout",
     "text": [
      "Введенное значение:  13\nТакого месяца не существует\n"
     ]
    }
   ],
   "source": [
    "seasons_list = ['Зима', 'Весна', 'Лето', 'Осень']\n",
    "seasons_dict = {1 : 'Зима', 2 : 'Весна', 3 : 'Лето', 4 : 'Осень'}\n",
    "month = int(input(\"Введите номер месяца: \"))\n",
    "print('Введенное значение: ', month)\n",
    "if month == 12 or month == 1 or month == 2:\n",
    "        print('Решение dict: ',seasons_dict.get(1))\n",
    "        print('Решение list: ',seasons_list[0])\n",
    "elif month == 3 or month == 4 or month ==5:\n",
    "    print('Решение dict: ',seasons_dict.get(2))\n",
    "    print('Решение list: ',seasons_list[1])\n",
    "elif month == 6 or month == 7 or month == 8:\n",
    "    print('Решение dict: ',seasons_dict.get(3))\n",
    "    print('Решение list: ',seasons_list[2])\n",
    "\n",
    "elif month == 9 or month == 10 or month == 11:\n",
    "    print('Решение dict: ',seasons_dict.get(4))\n",
    "    print('Решение list: ',seasons_list[3])\n",
    "else:\n",
    "        print(\"Такого месяца не существует\") "
   ]
  },
  {
   "source": [
    "## Пользователь вводит строку из нескольких слов, разделённых пробелами. Вывести каждое слово с новой строки. Строки необходимо пронумеровать. Если в слово длинное, выводить только первые 10 букв в слове."
   ],
   "cell_type": "markdown",
   "metadata": {}
  },
  {
   "cell_type": "code",
   "execution_count": 19,
   "metadata": {},
   "outputs": [
    {
     "output_type": "stream",
     "name": "stdout",
     "text": [
      "№1, Значение: Привет\n№2, Значение: я\n№3, Значение: пишу\n№4, Значение: какую-то\n№5, Значение: длиннеющую\n"
     ]
    }
   ],
   "source": [
    "my_str = input(\"введите строку \")\n",
    "word = []\n",
    "num = 1\n",
    "for i in range(my_str.count(' ') + 1):\n",
    "    word = my_str.split()\n",
    "    if len(str(word)) <= 10:\n",
    "        print('№{}, Значение: {}'.format(num,word[i]))\n",
    "        num += 1\n",
    "    else:\n",
    "        print('№{}, Значение: {}'.format(num,word[i][0:10]))\n",
    "        num += 1"
   ]
  },
  {
   "source": [
    "## Реализовать структуру «Рейтинг», представляющую собой не возрастающий набор натуральных чисел. У пользователя необходимо запрашивать новый элемент рейтинга. Если в рейтинге существуют элементы с одинаковыми значениями, то новый элемент с тем же значением должен разместиться после них."
   ],
   "cell_type": "markdown",
   "metadata": {}
  },
  {
   "cell_type": "code",
   "execution_count": 22,
   "metadata": {},
   "outputs": [
    {
     "output_type": "stream",
     "name": "stdout",
     "text": [
      "Рейтинг - [7, 5, 3, 3, 2]\n",
      "текущий список - [7, 5, 3, 3, 2, 1]\n",
      "текущий список - [7, 5, 3, 3, 2, 2, 1]\n",
      "текущий список - [7, 5, 3, 3, 3, 2, 2, 1]\n",
      "текущий список - [7, 5, 4, 4, 3, 3, 3, 2, 2, 1]\n",
      "текущий список - [7, 5, 5, 4, 4, 3, 3, 3, 2, 2, 1]\n"
     ]
    }
   ],
   "source": [
    "list3 = [7, 5, 3, 3, 2]\n",
    "print('Рейтинг - {}'.format(list3))\n",
    "count = int(input('Введите общее количество чисел для формирования рейтинга: '))\n",
    "j = 1\n",
    "while j<=count: \n",
    "    digit = int(input('Введите число: '))\n",
    "    for i in range(len(list3)):\n",
    "        if list3[i] == digit:\n",
    "            list3.insert(i + 1, digit)\n",
    "            break\n",
    "        elif list3[0] < digit:\n",
    "            list3.insert(0, digit)\n",
    "        elif list3[-1] > digit:\n",
    "            list3.append(digit)\n",
    "        elif list3[i] > digit and list3[i + 1] < digit:\n",
    "            list3.insert(i + 1, digit)\n",
    "    print('текущий список - {}'.format(list3))\n",
    "    j += 1"
   ]
  },
  {
   "cell_type": "code",
   "execution_count": null,
   "metadata": {},
   "outputs": [],
   "source": []
  }
 ]
}