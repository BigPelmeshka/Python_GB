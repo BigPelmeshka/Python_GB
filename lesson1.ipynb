{
 "metadata": {
  "language_info": {
   "codemirror_mode": {
    "name": "ipython",
    "version": 3
   },
   "file_extension": ".py",
   "mimetype": "text/x-python",
   "name": "python",
   "nbconvert_exporter": "python",
   "pygments_lexer": "ipython3",
   "version": "3.8.5-final"
  },
  "orig_nbformat": 2,
  "kernelspec": {
   "name": "python3",
   "display_name": "Python 3.8.5 32-bit",
   "metadata": {
    "interpreter": {
     "hash": "11d0987cba3575fa86c43e5c0910b5a3a7d11bca43b022f3e641546965e6b895"
    }
   }
  }
 },
 "nbformat": 4,
 "nbformat_minor": 2,
 "cells": [
  {
   "source": [
    "## Поработайте с переменными, создайте несколько, выведите на экран, запросите у пользователя несколько чисел и строк и сохраните в переменные, выведите на экран."
   ],
   "cell_type": "markdown",
   "metadata": {}
  },
  {
   "cell_type": "code",
   "execution_count": 2,
   "metadata": {},
   "outputs": [
    {
     "output_type": "stream",
     "name": "stdout",
     "text": [
      "a =  1\nb =  2\nc =  3\n"
     ]
    }
   ],
   "source": [
    "a = 1\n",
    "b = 2\n",
    "c = input()\n",
    "\n",
    "print('a = ', a)\n",
    "print('b = ', b)\n",
    "print('c = ', c)"
   ]
  },
  {
   "source": [
    "## Пользователь вводит время в секундах. Переведите время в часы, минуты и секунды и выведите в формате чч:мм:сс. Используйте форматирование строк."
   ],
   "cell_type": "markdown",
   "metadata": {}
  },
  {
   "cell_type": "code",
   "execution_count": 5,
   "metadata": {},
   "outputs": [
    {
     "output_type": "stream",
     "name": "stdout",
     "text": [
      "0:07:15\n"
     ]
    }
   ],
   "source": [
    "a=int(input())\n",
    "h=((a//3600))%24\n",
    "m=(a//60)%60\n",
    "s=a%60\n",
    "if m<10:\n",
    "    m=str('0'+str(m))\n",
    "else:\n",
    "    m=str(m)\n",
    "if s<10:\n",
    "    s=str('0'+str(s))\n",
    "else:\n",
    "    s=str(s)\n",
    "print(str(h)+':'+str(m)+':'+str(s))"
   ]
  },
  {
   "source": [
    "## Узнайте у пользователя число n. Найдите сумму чисел n + nn + nnn. Например, пользователь ввёл число 3. Считаем 3 + 33 + 333 = 369."
   ],
   "cell_type": "markdown",
   "metadata": {}
  },
  {
   "cell_type": "code",
   "execution_count": 4,
   "metadata": {},
   "outputs": [
    {
     "output_type": "stream",
     "name": "stdout",
     "text": [
      "1476\n"
     ]
    }
   ],
   "source": [
    "n = int(input())\n",
    "print(3*n+20*n+100*n)"
   ]
  },
  {
   "source": [
    "## Пользователь вводит целое положительное число. Найдите самую большую цифру в числе. Для решения используйте цикл while и арифметические операции."
   ],
   "cell_type": "markdown",
   "metadata": {}
  },
  {
   "cell_type": "code",
   "execution_count": 6,
   "metadata": {},
   "outputs": [
    {
     "output_type": "stream",
     "name": "stdout",
     "text": [
      "4\n"
     ]
    }
   ],
   "source": [
    "a = int(input())\n",
    "m = a%10\n",
    "a = a//10\n",
    "while a > 0:\n",
    "    if a%10 > m:\n",
    "        m = a%10\n",
    "    a = a//10\n",
    "print(m)"
   ]
  },
  {
   "source": [
    "## Запросите у пользователя значения выручки и издержек фирмы. Определите, с каким финансовым результатом работает фирма (прибыль — выручка больше издержек, или убыток — издержки больше выручки). Выведите соответствующее сообщение. Если фирма отработала с прибылью, вычислите рентабельность выручки (соотношение прибыли к выручке). Далее запросите численность сотрудников фирмы и определите прибыль фирмы в расчете на одного сотрудника."
   ],
   "cell_type": "markdown",
   "metadata": {}
  },
  {
   "cell_type": "code",
   "execution_count": 10,
   "metadata": {},
   "outputs": [
    {
     "output_type": "stream",
     "name": "stdout",
     "text": [
      "Ваша выручка:  100.0\n",
      "Ваши издержки:  1.0\n",
      " \n",
      "Фирма отработала с прибылью. Ваша рентабельность,% : 10000.0\n",
      "Прибыль на одного сотрудника:  20.0\n"
     ]
    }
   ],
   "source": [
    "income = float(input('Введите выручку: '))\n",
    "loss = float(input('Введите издержки: '))\n",
    "\n",
    "print('Ваша выручка: ', income)\n",
    "print('Ваши издержки: ', loss)\n",
    "print(' ')\n",
    "\n",
    "if income > loss:\n",
    "    print('Фирма отработала с прибылью. Ваша рентабельность,% :', income/loss*100)\n",
    "    staff = int(input('Введите число работающих сотрудников: '))\n",
    "    print('Прибыль на одного сотрудника: ', income/staff)\n",
    "else:\n",
    "    print('Фирма отработала с убытком')"
   ]
  },
  {
   "source": [
    "## Спортсмен занимается ежедневными пробежками. В первый день его результат составил a километров. Каждый день спортсмен увеличивал результат на 10 % относительно предыдущего. Требуется определить номер дня, на который общий результат спортсмена составить не менее b километров. Программа должна принимать значения параметров a и b и выводить одно натуральное число — номер дня."
   ],
   "cell_type": "markdown",
   "metadata": {}
  },
  {
   "cell_type": "code",
   "execution_count": 16,
   "metadata": {},
   "outputs": [
    {
     "output_type": "stream",
     "name": "stdout",
     "text": [
      "На 6 день спортсмен достиг результата - не менее 3 км\n"
     ]
    }
   ],
   "source": [
    "a = int(input('Километры'))\n",
    "b = int(input('Конечный результат'))\n",
    "\n",
    "days = 1\n",
    "\n",
    "while a<b:\n",
    "    a = a*1.1\n",
    "    days += 1\n",
    "else:\n",
    "    print('На {} день спортсмен достиг результата - не менее {} км'.format(days,b))"
   ]
  },
  {
   "cell_type": "code",
   "execution_count": null,
   "metadata": {},
   "outputs": [],
   "source": []
  }
 ]
}